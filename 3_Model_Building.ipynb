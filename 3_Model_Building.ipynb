{
 "cells": [
  {
   "cell_type": "code",
   "execution_count": 1,
   "metadata": {},
   "outputs": [],
   "source": [
    "%matplotlib inline\n",
    "\n",
    "import pickle\n",
    "import copy\n",
    "import time\n",
    "import warnings\n",
    "warnings.filterwarnings('ignore')\n",
    "\n",
    "import pandas as pd\n",
    "import numpy as np\n",
    "import networkx as nx\n",
    "import xgboost as xgb\n",
    "import matplotlib.pyplot as plt\n",
    "\n",
    "from xgboost import XGBClassifier\n",
    "from sklearn.model_selection import train_test_split, GridSearchCV, StratifiedKFold\n",
    "from sklearn.linear_model import LogisticRegression\n",
    "from sklearn.ensemble import RandomForestClassifier\n",
    "from sklearn import svm\n",
    "from sklearn.metrics import classification_report, confusion_matrix"
   ]
  },
  {
   "cell_type": "code",
   "execution_count": 2,
   "metadata": {
    "scrolled": true
   },
   "outputs": [
    {
     "data": {
      "text/html": [
       "<div>\n",
       "<style scoped>\n",
       "    .dataframe tbody tr th:only-of-type {\n",
       "        vertical-align: middle;\n",
       "    }\n",
       "\n",
       "    .dataframe tbody tr th {\n",
       "        vertical-align: top;\n",
       "    }\n",
       "\n",
       "    .dataframe thead th {\n",
       "        text-align: right;\n",
       "    }\n",
       "</style>\n",
       "<table border=\"1\" class=\"dataframe\">\n",
       "  <thead>\n",
       "    <tr style=\"text-align: right;\">\n",
       "      <th></th>\n",
       "      <th>Source</th>\n",
       "      <th>Destination</th>\n",
       "      <th>Class</th>\n",
       "      <th>Page_Rank_Src</th>\n",
       "      <th>Page_Rank_Dst</th>\n",
       "      <th>Shortest_Path</th>\n",
       "      <th>Follows_Back</th>\n",
       "      <th>Followers_Src</th>\n",
       "      <th>Followees_Src</th>\n",
       "      <th>Followers_Dst</th>\n",
       "      <th>Followees_Dst</th>\n",
       "      <th>Int_Followers</th>\n",
       "      <th>Int_Followees</th>\n",
       "    </tr>\n",
       "  </thead>\n",
       "  <tbody>\n",
       "    <tr>\n",
       "      <th>0</th>\n",
       "      <td>6194</td>\n",
       "      <td>255</td>\n",
       "      <td>1</td>\n",
       "      <td>0.000033</td>\n",
       "      <td>0.000015</td>\n",
       "      <td>-1</td>\n",
       "      <td>0</td>\n",
       "      <td>0</td>\n",
       "      <td>4</td>\n",
       "      <td>0</td>\n",
       "      <td>3</td>\n",
       "      <td>0</td>\n",
       "      <td>0</td>\n",
       "    </tr>\n",
       "    <tr>\n",
       "      <th>1</th>\n",
       "      <td>6194</td>\n",
       "      <td>980</td>\n",
       "      <td>1</td>\n",
       "      <td>0.000033</td>\n",
       "      <td>0.000016</td>\n",
       "      <td>-1</td>\n",
       "      <td>0</td>\n",
       "      <td>0</td>\n",
       "      <td>4</td>\n",
       "      <td>0</td>\n",
       "      <td>15</td>\n",
       "      <td>0</td>\n",
       "      <td>1</td>\n",
       "    </tr>\n",
       "    <tr>\n",
       "      <th>2</th>\n",
       "      <td>6194</td>\n",
       "      <td>2992</td>\n",
       "      <td>1</td>\n",
       "      <td>0.000033</td>\n",
       "      <td>0.000017</td>\n",
       "      <td>4</td>\n",
       "      <td>0</td>\n",
       "      <td>0</td>\n",
       "      <td>4</td>\n",
       "      <td>3</td>\n",
       "      <td>0</td>\n",
       "      <td>0</td>\n",
       "      <td>0</td>\n",
       "    </tr>\n",
       "    <tr>\n",
       "      <th>3</th>\n",
       "      <td>6194</td>\n",
       "      <td>2507</td>\n",
       "      <td>1</td>\n",
       "      <td>0.000033</td>\n",
       "      <td>0.000043</td>\n",
       "      <td>3</td>\n",
       "      <td>0</td>\n",
       "      <td>0</td>\n",
       "      <td>4</td>\n",
       "      <td>8</td>\n",
       "      <td>13</td>\n",
       "      <td>0</td>\n",
       "      <td>0</td>\n",
       "    </tr>\n",
       "    <tr>\n",
       "      <th>4</th>\n",
       "      <td>6194</td>\n",
       "      <td>986</td>\n",
       "      <td>1</td>\n",
       "      <td>0.000033</td>\n",
       "      <td>0.000020</td>\n",
       "      <td>8</td>\n",
       "      <td>0</td>\n",
       "      <td>0</td>\n",
       "      <td>4</td>\n",
       "      <td>1</td>\n",
       "      <td>18</td>\n",
       "      <td>0</td>\n",
       "      <td>0</td>\n",
       "    </tr>\n",
       "  </tbody>\n",
       "</table>\n",
       "</div>"
      ],
      "text/plain": [
       "   Source  Destination  Class  Page_Rank_Src  Page_Rank_Dst  Shortest_Path  \\\n",
       "0    6194          255      1       0.000033       0.000015             -1   \n",
       "1    6194          980      1       0.000033       0.000016             -1   \n",
       "2    6194         2992      1       0.000033       0.000017              4   \n",
       "3    6194         2507      1       0.000033       0.000043              3   \n",
       "4    6194          986      1       0.000033       0.000020              8   \n",
       "\n",
       "   Follows_Back  Followers_Src  Followees_Src  Followers_Dst  Followees_Dst  \\\n",
       "0             0              0              4              0              3   \n",
       "1             0              0              4              0             15   \n",
       "2             0              0              4              3              0   \n",
       "3             0              0              4              8             13   \n",
       "4             0              0              4              1             18   \n",
       "\n",
       "   Int_Followers  Int_Followees  \n",
       "0              0              0  \n",
       "1              0              1  \n",
       "2              0              0  \n",
       "3              0              0  \n",
       "4              0              0  "
      ]
     },
     "execution_count": 2,
     "metadata": {},
     "output_type": "execute_result"
    }
   ],
   "source": [
    "df = pd.read_csv('./data/twitch_final_dataset.csv')\n",
    "df = df.drop(columns=['Unnamed: 0'])\n",
    "df.head(5)"
   ]
  },
  {
   "cell_type": "code",
   "execution_count": 3,
   "metadata": {
    "scrolled": true
   },
   "outputs": [
    {
     "data": {
      "text/plain": [
       "<matplotlib.axes._subplots.AxesSubplot at 0x1a1c5e1750>"
      ]
     },
     "execution_count": 3,
     "metadata": {},
     "output_type": "execute_result"
    },
    {
     "data": {
      "image/png": "[encoded data removed]",
      "text/plain": [
       "<Figure size 432x288 with 1 Axes>"
      ]
     },
     "metadata": {
      "needs_background": "light"
     },
     "output_type": "display_data"
    }
   ],
   "source": [
    "x = df['Page_Rank_Src']\n",
    "df['Page_Rank_Src'] = ( x-x.min()) / ( x.max() - x.min() )\n",
    "df['Page_Rank_Src'].hist()"
   ]
  },
  {
   "cell_type": "code",
   "execution_count": 4,
   "metadata": {},
   "outputs": [
    {
     "data": {
      "text/plain": [
       "<matplotlib.axes._subplots.AxesSubplot at 0x1a1c8ecd90>"
      ]
     },
     "execution_count": 4,
     "metadata": {},
     "output_type": "execute_result"
    },
    {
     "data": {
      "image/png": "[encoded data removed]",
      "text/plain": [
       "<Figure size 432x288 with 1 Axes>"
      ]
     },
     "metadata": {
      "needs_background": "light"
     },
     "output_type": "display_data"
    }
   ],
   "source": [
    "x = df['Page_Rank_Dst']\n",
    "df['Page_Rank_Dst'] = ( x-x.min()) / ( x.max() - x.min() )\n",
    "df['Page_Rank_Dst'].hist()"
   ]
  },
  {
   "cell_type": "code",
   "execution_count": 5,
   "metadata": {},
   "outputs": [
    {
     "data": {
      "text/plain": [
       "<matplotlib.axes._subplots.AxesSubplot at 0x1a1cac41d0>"
      ]
     },
     "execution_count": 5,
     "metadata": {},
     "output_type": "execute_result"
    },
    {
     "data": {
      "image/png": "[encoded data removed]",
      "text/plain": [
       "<Figure size 432x288 with 1 Axes>"
      ]
     },
     "metadata": {
      "needs_background": "light"
     },
     "output_type": "display_data"
    }
   ],
   "source": [
    "x = df['Shortest_Path']\n",
    "df['Shortest_Path'] = ( x-x.min()) / ( x.max() - x.min() )\n",
    "df['Shortest_Path'].hist()"
   ]
  },
  {
   "cell_type": "code",
   "execution_count": 6,
   "metadata": {},
   "outputs": [
    {
     "data": {
      "text/plain": [
       "<matplotlib.axes._subplots.AxesSubplot at 0x1a1e07b310>"
      ]
     },
     "execution_count": 6,
     "metadata": {},
     "output_type": "execute_result"
    },
    {
     "data": {
      "image/png": "[encoded data removed]",
      "text/plain": [
       "<Figure size 432x288 with 1 Axes>"
      ]
     },
     "metadata": {
      "needs_background": "light"
     },
     "output_type": "display_data"
    }
   ],
   "source": [
    "x = df['Follows_Back']\n",
    "df['Follows_Back'] = ( x-x.min()) / ( x.max() - x.min() )\n",
    "df['Follows_Back'].hist()"
   ]
  },
  {
   "cell_type": "code",
   "execution_count": 7,
   "metadata": {
    "scrolled": true
   },
   "outputs": [
    {
     "data": {
      "text/plain": [
       "<matplotlib.axes._subplots.AxesSubplot at 0x1a1e0b88d0>"
      ]
     },
     "execution_count": 7,
     "metadata": {},
     "output_type": "execute_result"
    },
    {
     "data": {
      "image/png": "[encoded data removed]",
      "text/plain": [
       "<Figure size 432x288 with 1 Axes>"
      ]
     },
     "metadata": {
      "needs_background": "light"
     },
     "output_type": "display_data"
    }
   ],
   "source": [
    "x = df['Followees_Dst']\n",
    "df['Followees_Dst'] = ( x-x.min()) / ( x.max() - x.min() )\n",
    "df['Followees_Dst'].hist()"
   ]
  },
  {
   "cell_type": "code",
   "execution_count": 8,
   "metadata": {},
   "outputs": [
    {
     "data": {
      "text/plain": [
       "<matplotlib.axes._subplots.AxesSubplot at 0x1a1e75dd50>"
      ]
     },
     "execution_count": 8,
     "metadata": {},
     "output_type": "execute_result"
    },
    {
     "data": {
      "image/png": "[encoded data removed]",
      "text/plain": [
       "<Figure size 432x288 with 1 Axes>"
      ]
     },
     "metadata": {
      "needs_background": "light"
     },
     "output_type": "display_data"
    }
   ],
   "source": [
    "x = df['Followees_Src']\n",
    "df['Followees_Src'] = ( x-x.min()) / ( x.max() - x.min() )\n",
    "df['Followees_Src'].hist()"
   ]
  },
  {
   "cell_type": "code",
   "execution_count": 9,
   "metadata": {},
   "outputs": [
    {
     "data": {
      "text/plain": [
       "<matplotlib.axes._subplots.AxesSubplot at 0x1a1e8c1ed0>"
      ]
     },
     "execution_count": 9,
     "metadata": {},
     "output_type": "execute_result"
    },
    {
     "data": {
      "image/png": "[encoded data removed]",
      "text/plain": [
       "<Figure size 432x288 with 1 Axes>"
      ]
     },
     "metadata": {
      "needs_background": "light"
     },
     "output_type": "display_data"
    }
   ],
   "source": [
    "x = df['Followers_Dst']\n",
    "df['Followers_Dst'] = ( x-x.min()) / ( x.max() - x.min() )\n",
    "df['Followers_Dst'].hist()"
   ]
  },
  {
   "cell_type": "code",
   "execution_count": 10,
   "metadata": {},
   "outputs": [
    {
     "data": {
      "text/plain": [
       "<matplotlib.axes._subplots.AxesSubplot at 0x1a1ea5cb90>"
      ]
     },
     "execution_count": 10,
     "metadata": {},
     "output_type": "execute_result"
    },
    {
     "data": {
      "image/png": "[encoded data removed]",
      "text/plain": [
       "<Figure size 432x288 with 1 Axes>"
      ]
     },
     "metadata": {
      "needs_background": "light"
     },
     "output_type": "display_data"
    }
   ],
   "source": [
    "x = df['Followers_Src']\n",
    "df['Followers_Src'] = ( x-x.min()) / ( x.max() - x.min() )\n",
    "df['Followers_Src'].hist()"
   ]
  },
  {
   "cell_type": "code",
   "execution_count": 11,
   "metadata": {
    "scrolled": true
   },
   "outputs": [
    {
     "data": {
      "text/plain": [
       "<matplotlib.axes._subplots.AxesSubplot at 0x1a1f08ae90>"
      ]
     },
     "execution_count": 11,
     "metadata": {},
     "output_type": "execute_result"
    },
    {
     "data": {
      "image/png": "[encoded data removed]",
      "text/plain": [
       "<Figure size 432x288 with 1 Axes>"
      ]
     },
     "metadata": {
      "needs_background": "light"
     },
     "output_type": "display_data"
    }
   ],
   "source": [
    "x = df['Int_Followees']\n",
    "df['Int_Followees'] = ( x-x.min()) / ( x.max() - x.min() )\n",
    "df['Int_Followees'].hist()"
   ]
  },
  {
   "cell_type": "code",
   "execution_count": 12,
   "metadata": {
    "scrolled": true
   },
   "outputs": [
    {
     "data": {
      "text/plain": [
       "<matplotlib.axes._subplots.AxesSubplot at 0x1a1f35e9d0>"
      ]
     },
     "execution_count": 12,
     "metadata": {},
     "output_type": "execute_result"
    },
    {
     "data": {
      "image/png": "[encoded data removed]",
      "text/plain": [
       "<Figure size 432x288 with 1 Axes>"
      ]
     },
     "metadata": {
      "needs_background": "light"
     },
     "output_type": "display_data"
    }
   ],
   "source": [
    "x = df['Int_Followers']\n",
    "df['Int_Followers'] = ( x-x.min()) / ( x.max() - x.min() )\n",
    "df['Int_Followers'].hist()"
   ]
  },
  {
   "cell_type": "code",
   "execution_count": 13,
   "metadata": {},
   "outputs": [
    {
     "data": {
      "text/html": [
       "<div>\n",
       "<style scoped>\n",
       "    .dataframe tbody tr th:only-of-type {\n",
       "        vertical-align: middle;\n",
       "    }\n",
       "\n",
       "    .dataframe tbody tr th {\n",
       "        vertical-align: top;\n",
       "    }\n",
       "\n",
       "    .dataframe thead th {\n",
       "        text-align: right;\n",
       "    }\n",
       "</style>\n",
       "<table border=\"1\" class=\"dataframe\">\n",
       "  <thead>\n",
       "    <tr style=\"text-align: right;\">\n",
       "      <th></th>\n",
       "      <th>Source</th>\n",
       "      <th>Destination</th>\n",
       "      <th>Class</th>\n",
       "      <th>Page_Rank_Src</th>\n",
       "      <th>Page_Rank_Dst</th>\n",
       "      <th>Shortest_Path</th>\n",
       "      <th>Follows_Back</th>\n",
       "      <th>Followers_Src</th>\n",
       "      <th>Followees_Src</th>\n",
       "      <th>Followers_Dst</th>\n",
       "      <th>Followees_Dst</th>\n",
       "      <th>Int_Followers</th>\n",
       "      <th>Int_Followees</th>\n",
       "    </tr>\n",
       "  </thead>\n",
       "  <tbody>\n",
       "    <tr>\n",
       "      <th>0</th>\n",
       "      <td>6194</td>\n",
       "      <td>255</td>\n",
       "      <td>1</td>\n",
       "      <td>0.013325</td>\n",
       "      <td>0.002871</td>\n",
       "      <td>0.000000</td>\n",
       "      <td>0.0</td>\n",
       "      <td>0.0</td>\n",
       "      <td>0.01</td>\n",
       "      <td>0.0000</td>\n",
       "      <td>0.0075</td>\n",
       "      <td>0.0</td>\n",
       "      <td>0.000000</td>\n",
       "    </tr>\n",
       "    <tr>\n",
       "      <th>1</th>\n",
       "      <td>6194</td>\n",
       "      <td>980</td>\n",
       "      <td>1</td>\n",
       "      <td>0.013325</td>\n",
       "      <td>0.003198</td>\n",
       "      <td>0.000000</td>\n",
       "      <td>0.0</td>\n",
       "      <td>0.0</td>\n",
       "      <td>0.01</td>\n",
       "      <td>0.0000</td>\n",
       "      <td>0.0375</td>\n",
       "      <td>0.0</td>\n",
       "      <td>0.013158</td>\n",
       "    </tr>\n",
       "    <tr>\n",
       "      <th>2</th>\n",
       "      <td>6194</td>\n",
       "      <td>2992</td>\n",
       "      <td>1</td>\n",
       "      <td>0.013325</td>\n",
       "      <td>0.004148</td>\n",
       "      <td>0.217391</td>\n",
       "      <td>0.0</td>\n",
       "      <td>0.0</td>\n",
       "      <td>0.01</td>\n",
       "      <td>0.0075</td>\n",
       "      <td>0.0000</td>\n",
       "      <td>0.0</td>\n",
       "      <td>0.000000</td>\n",
       "    </tr>\n",
       "    <tr>\n",
       "      <th>3</th>\n",
       "      <td>6194</td>\n",
       "      <td>2507</td>\n",
       "      <td>1</td>\n",
       "      <td>0.013325</td>\n",
       "      <td>0.018890</td>\n",
       "      <td>0.173913</td>\n",
       "      <td>0.0</td>\n",
       "      <td>0.0</td>\n",
       "      <td>0.01</td>\n",
       "      <td>0.0200</td>\n",
       "      <td>0.0325</td>\n",
       "      <td>0.0</td>\n",
       "      <td>0.000000</td>\n",
       "    </tr>\n",
       "    <tr>\n",
       "      <th>4</th>\n",
       "      <td>6194</td>\n",
       "      <td>986</td>\n",
       "      <td>1</td>\n",
       "      <td>0.013325</td>\n",
       "      <td>0.005404</td>\n",
       "      <td>0.391304</td>\n",
       "      <td>0.0</td>\n",
       "      <td>0.0</td>\n",
       "      <td>0.01</td>\n",
       "      <td>0.0025</td>\n",
       "      <td>0.0450</td>\n",
       "      <td>0.0</td>\n",
       "      <td>0.000000</td>\n",
       "    </tr>\n",
       "  </tbody>\n",
       "</table>\n",
       "</div>"
      ],
      "text/plain": [
       "   Source  Destination  Class  Page_Rank_Src  Page_Rank_Dst  Shortest_Path  \\\n",
       "0    6194          255      1       0.013325       0.002871       0.000000   \n",
       "1    6194          980      1       0.013325       0.003198       0.000000   \n",
       "2    6194         2992      1       0.013325       0.004148       0.217391   \n",
       "3    6194         2507      1       0.013325       0.018890       0.173913   \n",
       "4    6194          986      1       0.013325       0.005404       0.391304   \n",
       "\n",
       "   Follows_Back  Followers_Src  Followees_Src  Followers_Dst  Followees_Dst  \\\n",
       "0           0.0            0.0           0.01         0.0000         0.0075   \n",
       "1           0.0            0.0           0.01         0.0000         0.0375   \n",
       "2           0.0            0.0           0.01         0.0075         0.0000   \n",
       "3           0.0            0.0           0.01         0.0200         0.0325   \n",
       "4           0.0            0.0           0.01         0.0025         0.0450   \n",
       "\n",
       "   Int_Followers  Int_Followees  \n",
       "0            0.0       0.000000  \n",
       "1            0.0       0.013158  \n",
       "2            0.0       0.000000  \n",
       "3            0.0       0.000000  \n",
       "4            0.0       0.000000  "
      ]
     },
     "execution_count": 13,
     "metadata": {},
     "output_type": "execute_result"
    }
   ],
   "source": [
    "df.head(5)"
   ]
  },
  {
   "cell_type": "code",
   "execution_count": 14,
   "metadata": {},
   "outputs": [],
   "source": [
    "df.to_csv('./data/twitch_preprocessed_data.csv')"
   ]
  },
  {
   "cell_type": "code",
   "execution_count": 15,
   "metadata": {},
   "outputs": [
    {
     "name": "stdout",
     "output_type": "stream",
     "text": [
      "Name: \n",
      "Type: DiGraph\n",
      "Number of nodes: 50107\n",
      "Number of edges: 70648\n",
      "Average in degree:   1.4099\n",
      "Average out degree:   1.4099\n"
     ]
    }
   ],
   "source": [
    "g = nx.from_pandas_edgelist(df[['Source','Destination']], source='Source', target='Destination',create_using=nx.DiGraph())\n",
    "print nx.info(g)"
   ]
  },
  {
   "cell_type": "code",
   "execution_count": 16,
   "metadata": {},
   "outputs": [],
   "source": [
    "df_x = df.drop(columns=['Source', 'Destination', 'Class'])\n",
    "df_y = df[['Class']]\n",
    "x_train, x_test, y_train, y_test  = train_test_split(df_x, df_y, test_size = 0.3, random_state=7)"
   ]
  },
  {
   "cell_type": "markdown",
   "metadata": {},
   "source": [
    "## 1. Logistic Regression"
   ]
  },
  {
   "cell_type": "code",
   "execution_count": 17,
   "metadata": {},
   "outputs": [],
   "source": [
    "penalty_values = ['l1', 'l2']\n",
    "c_values = np.logspace(0, 4, 10)\n",
    "param_grid = {'C' : c_values, 'penalty' : penalty_values}\n",
    "\n",
    "gs_lr = GridSearchCV(cv = 10, estimator = LogisticRegression(), param_grid = param_grid)"
   ]
  },
  {
   "cell_type": "code",
   "execution_count": 18,
   "metadata": {},
   "outputs": [
    {
     "name": "stdout",
     "output_type": "stream",
     "text": [
      "Time taken to train model :  18.56  seconds\n"
     ]
    }
   ],
   "source": [
    "start = time.time()\n",
    "gs_lr.fit(x_train, y_train)\n",
    "end = time.time()\n",
    "print 'Time taken to train model : ', round(end-start,2) , ' seconds'"
   ]
  },
  {
   "cell_type": "code",
   "execution_count": 19,
   "metadata": {},
   "outputs": [
    {
     "name": "stdout",
     "output_type": "stream",
     "text": [
      "{'penalty': 'l1', 'C': 2.7825594022071245}\n"
     ]
    }
   ],
   "source": [
    "pickle.dump(gs_lr.best_estimator_, open('./data/twitch_lr_model.p', 'wb'))\n",
    "print gs_lr.best_params_"
   ]
  },
  {
   "cell_type": "code",
   "execution_count": 20,
   "metadata": {},
   "outputs": [
    {
     "name": "stdout",
     "output_type": "stream",
     "text": [
      "              precision    recall  f1-score   support\n",
      "\n",
      "           0       0.98      0.92      0.95     11208\n",
      "           1       0.92      0.98      0.95      9987\n",
      "\n",
      "   micro avg       0.95      0.95      0.95     21195\n",
      "   macro avg       0.95      0.95      0.95     21195\n",
      "weighted avg       0.95      0.95      0.95     21195\n",
      "\n"
     ]
    }
   ],
   "source": [
    "print classification_report(gs_lr.best_estimator_.predict(x_test), y_test) "
   ]
  },
  {
   "cell_type": "code",
   "execution_count": 21,
   "metadata": {},
   "outputs": [
    {
     "name": "stdout",
     "output_type": "stream",
     "text": [
      "[[10319   889]\n",
      " [  201  9786]]\n"
     ]
    }
   ],
   "source": [
    "print confusion_matrix(gs_lr.best_estimator_.predict(x_test), y_test) "
   ]
  },
  {
   "cell_type": "markdown",
   "metadata": {},
   "source": [
    "## 2. Random Forest"
   ]
  },
  {
   "cell_type": "code",
   "execution_count": 22,
   "metadata": {},
   "outputs": [],
   "source": [
    "estimators = [50, 100, 150]\n",
    "depths = [9, 12, 15, 24]\n",
    "split = np.random.randint(100, 150, 2)\n",
    "leaves = np.random.randint(20, 30, 2)\n",
    "param_grid = {'n_estimators' : estimators, 'max_depth' : depths, 'min_samples_split' : split, 'min_samples_leaf' : leaves}\n",
    "\n",
    "gs_rf = GridSearchCV(cv = 10, estimator = RandomForestClassifier(), param_grid = param_grid)"
   ]
  },
  {
   "cell_type": "code",
   "execution_count": 23,
   "metadata": {},
   "outputs": [
    {
     "name": "stdout",
     "output_type": "stream",
     "text": [
      "Time taken to train model :  1023.86  seconds\n"
     ]
    }
   ],
   "source": [
    "start = time.time()\n",
    "gs_rf.fit(x_train, y_train) \n",
    "end = time.time()\n",
    "print 'Time taken to train model : ', round(end-start,2) , ' seconds'"
   ]
  },
  {
   "cell_type": "code",
   "execution_count": 24,
   "metadata": {},
   "outputs": [
    {
     "name": "stdout",
     "output_type": "stream",
     "text": [
      "{'min_samples_split': 125, 'n_estimators': 100, 'max_depth': 9, 'min_samples_leaf': 25}\n"
     ]
    }
   ],
   "source": [
    "pickle.dump(gs_rf.best_estimator_, open('./data/twitch_rf_model.p', 'wb')) \n",
    "print gs_rf.best_params_"
   ]
  },
  {
   "cell_type": "code",
   "execution_count": 25,
   "metadata": {},
   "outputs": [
    {
     "name": "stdout",
     "output_type": "stream",
     "text": [
      "              precision    recall  f1-score   support\n",
      "\n",
      "           0       0.98      0.96      0.97     10795\n",
      "           1       0.96      0.98      0.97     10400\n",
      "\n",
      "   micro avg       0.97      0.97      0.97     21195\n",
      "   macro avg       0.97      0.97      0.97     21195\n",
      "weighted avg       0.97      0.97      0.97     21195\n",
      "\n"
     ]
    }
   ],
   "source": [
    "print classification_report(gs_rf.best_estimator_.predict(x_test), y_test) "
   ]
  },
  {
   "cell_type": "code",
   "execution_count": 26,
   "metadata": {},
   "outputs": [
    {
     "name": "stdout",
     "output_type": "stream",
     "text": [
      "[[10318   477]\n",
      " [  202 10198]]\n"
     ]
    }
   ],
   "source": [
    "print confusion_matrix(gs_rf.best_estimator_.predict(x_test), y_test) "
   ]
  },
  {
   "cell_type": "markdown",
   "metadata": {},
   "source": [
    "## 3. SVM"
   ]
  },
  {
   "cell_type": "code",
   "execution_count": 27,
   "metadata": {},
   "outputs": [],
   "source": [
    "kernels = ['rbf', 'linear']\n",
    "c_values = [0.001, 0.01, 0.1, 1]\n",
    "param_grid = {'kernel':kernels, 'C':c_values}\n",
    "\n",
    "gs_svm = GridSearchCV(cv=10, estimator=svm.SVC(), param_grid=param_grid)"
   ]
  },
  {
   "cell_type": "code",
   "execution_count": 28,
   "metadata": {},
   "outputs": [
    {
     "name": "stdout",
     "output_type": "stream",
     "text": [
      "Time taken to train model :  3517.65  seconds\n"
     ]
    }
   ],
   "source": [
    "start = time.time()\n",
    "gs_svm.fit(x_train, y_train)\n",
    "end = time.time()\n",
    "print 'Time taken to train model : ', round(end-start,2) , ' seconds'"
   ]
  },
  {
   "cell_type": "code",
   "execution_count": 36,
   "metadata": {},
   "outputs": [
    {
     "name": "stdout",
     "output_type": "stream",
     "text": [
      "{'kernel': 'linear', 'C': 1}\n"
     ]
    }
   ],
   "source": [
    "pickle.dump(gs_svm.best_estimator_, open('./data/twitch_svm_model.p', 'wb'))\n",
    "print gs_svm.best_params_"
   ]
  },
  {
   "cell_type": "code",
   "execution_count": 30,
   "metadata": {},
   "outputs": [
    {
     "name": "stdout",
     "output_type": "stream",
     "text": [
      "              precision    recall  f1-score   support\n",
      "\n",
      "           0       0.99      0.90      0.94     11527\n",
      "           1       0.89      0.99      0.94      9668\n",
      "\n",
      "   micro avg       0.94      0.94      0.94     21195\n",
      "   macro avg       0.94      0.94      0.94     21195\n",
      "weighted avg       0.94      0.94      0.94     21195\n",
      "\n"
     ]
    }
   ],
   "source": [
    "print classification_report(gs_svm.best_estimator_.predict(x_test), y_test)"
   ]
  },
  {
   "cell_type": "code",
   "execution_count": 31,
   "metadata": {},
   "outputs": [
    {
     "name": "stdout",
     "output_type": "stream",
     "text": [
      "[[10379  1148]\n",
      " [  141  9527]]\n"
     ]
    }
   ],
   "source": [
    "print confusion_matrix(gs_svm.best_estimator_.predict(x_test), y_test)"
   ]
  },
  {
   "cell_type": "markdown",
   "metadata": {},
   "source": [
    "## 4. KGBoost"
   ]
  },
  {
   "cell_type": "code",
   "execution_count": 32,
   "metadata": {
    "scrolled": false
   },
   "outputs": [
    {
     "name": "stdout",
     "output_type": "stream",
     "text": [
      "Fitting 3 folds for each of 405 candidates, totalling 1215 fits\n"
     ]
    },
    {
     "name": "stderr",
     "output_type": "stream",
     "text": [
      "[Parallel(n_jobs=4)]: Using backend LokyBackend with 4 concurrent workers.\n",
      "[Parallel(n_jobs=4)]: Done  24 tasks      | elapsed:  1.1min\n",
      "[Parallel(n_jobs=4)]: Done 120 tasks      | elapsed:  6.3min\n",
      "[Parallel(n_jobs=4)]: Done 280 tasks      | elapsed: 15.3min\n",
      "[Parallel(n_jobs=4)]: Done 504 tasks      | elapsed: 28.5min\n",
      "[Parallel(n_jobs=4)]: Done 792 tasks      | elapsed: 46.8min\n",
      "[Parallel(n_jobs=4)]: Done 1144 tasks      | elapsed: 70.9min\n",
      "[Parallel(n_jobs=4)]: Done 1215 out of 1215 | elapsed: 75.8min finished\n"
     ]
    },
    {
     "data": {
      "text/plain": [
       "GridSearchCV(cv=<generator object split at 0x1a1f6cfe10>,\n",
       "       error_score='raise-deprecating',\n",
       "       estimator=XGBClassifier(base_score=0.5, booster='gbtree', colsample_bylevel=1,\n",
       "       colsample_bytree=1, gamma=0, learning_rate=0.02, max_delta_step=0,\n",
       "       max_depth=3, min_child_weight=1, missing=None, n_estimators=600,\n",
       "       n_jobs=1, nthread=1, objective='binary:logistic', random_state=0,\n",
       "       reg_alpha=0, reg_lambda=1, scale_pos_weight=1, seed=None,\n",
       "       silent=True, subsample=1),\n",
       "       fit_params=None, iid='warn', n_jobs=4,\n",
       "       param_grid={'subsample': [0.6, 0.8, 1.0], 'colsample_bytree': [0.6, 0.8, 1.0], 'gamma': [0.5, 1, 1.5, 2, 5], 'min_child_weight': [1, 5, 10], 'max_depth': [3, 4, 5]},\n",
       "       pre_dispatch='2*n_jobs', refit=True, return_train_score='warn',\n",
       "       scoring=None, verbose=3)"
      ]
     },
     "execution_count": 32,
     "metadata": {},
     "output_type": "execute_result"
    }
   ],
   "source": [
    "params = {\n",
    "        'min_child_weight': [1, 5, 10],\n",
    "        'gamma': [0.5, 1, 1.5, 2, 5],\n",
    "        'subsample': [0.6, 0.8, 1.0],\n",
    "        'colsample_bytree': [0.6, 0.8, 1.0],\n",
    "        'max_depth': [3, 4, 5]\n",
    "        }\n",
    "\n",
    "xgb = XGBClassifier(learning_rate = 0.02, n_estimators = 600, objective = 'binary:logistic', silent = True, nthread = 1)\n",
    "skf = StratifiedKFold(n_splits=3, shuffle = True, random_state = 1001)\n",
    "gs_xgb = GridSearchCV(xgb, param_grid=params, n_jobs = 4, cv = skf.split(x_train,y_train), verbose=3)\n",
    "gs_xgb.fit(x_train, y_train)"
   ]
  },
  {
   "cell_type": "code",
   "execution_count": 33,
   "metadata": {},
   "outputs": [
    {
     "name": "stdout",
     "output_type": "stream",
     "text": [
      "{'subsample': 0.6, 'colsample_bytree': 0.8, 'max_depth': 5, 'gamma': 1, 'min_child_weight': 1}\n"
     ]
    }
   ],
   "source": [
    "pickle.dump(gs_xgb.best_estimator_, open('./data/twitch_xgb_model.p', 'wb'))\n",
    "print gs_xgb.best_params_"
   ]
  },
  {
   "cell_type": "code",
   "execution_count": 34,
   "metadata": {},
   "outputs": [
    {
     "name": "stdout",
     "output_type": "stream",
     "text": [
      "              precision    recall  f1-score   support\n",
      "\n",
      "           0       0.98      0.96      0.97     10795\n",
      "           1       0.96      0.98      0.97     10400\n",
      "\n",
      "   micro avg       0.97      0.97      0.97     21195\n",
      "   macro avg       0.97      0.97      0.97     21195\n",
      "weighted avg       0.97      0.97      0.97     21195\n",
      "\n"
     ]
    }
   ],
   "source": [
    "print(classification_report(gs_xgb.best_estimator_.predict(x_test), y_test))"
   ]
  },
  {
   "cell_type": "code",
   "execution_count": 35,
   "metadata": {},
   "outputs": [
    {
     "name": "stdout",
     "output_type": "stream",
     "text": [
      "[[10316   479]\n",
      " [  204 10196]]\n"
     ]
    }
   ],
   "source": [
    "print(confusion_matrix(gs_xgb.best_estimator_.predict(x_test), y_test))"
   ]
  }
 ],
 "metadata": {
  "kernelspec": {
   "display_name": "Python 2",
   "language": "python",
   "name": "python2"
  },
  "language_info": {
   "codemirror_mode": {
    "name": "ipython",
    "version": 2
   },
   "file_extension": ".py",
   "mimetype": "text/x-python",
   "name": "python",
   "nbconvert_exporter": "python",
   "pygments_lexer": "ipython2",
   "version": "2.7.16"
  }
 },
 "nbformat": 4,
 "nbformat_minor": 2
}
